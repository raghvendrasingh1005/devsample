{
  "nbformat": 4,
  "nbformat_minor": 0,
  "metadata": {
    "colab": {
      "provenance": [],
      "authorship_tag": "ABX9TyNZTX0i2rVp/59wZ4zsosqM",
      "include_colab_link": true
    },
    "kernelspec": {
      "name": "python3",
      "display_name": "Python 3"
    },
    "language_info": {
      "name": "python"
    }
  },
  "cells": [
    {
      "cell_type": "markdown",
      "metadata": {
        "id": "view-in-github",
        "colab_type": "text"
      },
      "source": [
        "<a href=\"https://colab.research.google.com/github/raghvendrasingh1005/devsample/blob/master/Assignment_25_09_2022.ipynb\" target=\"_parent\"><img src=\"https://colab.research.google.com/assets/colab-badge.svg\" alt=\"Open In Colab\"/></a>"
      ]
    },
    {
      "cell_type": "markdown",
      "source": [
        "**Q1. Find out all the types of error that we have encountered in our lecture and why? Also include the examples.**\n",
        "\n",
        "**Ans: case sensitive error, variable declareation error, reserve word error, conversion error.**\n",
        "\n",
        "**Please see example below:** "
      ],
      "metadata": {
        "id": "QUoaaQufBCY8"
      }
    },
    {
      "cell_type": "code",
      "source": [
        "#case sensitive error\n",
        "name = \"Raghv\"\n",
        "print(Name)"
      ],
      "metadata": {
        "colab": {
          "base_uri": "https://localhost:8080/",
          "height": 200
        },
        "id": "mqJY7lGYDpGm",
        "outputId": "e287d824-4b86-4b41-f06d-957fa175d6a7"
      },
      "execution_count": 9,
      "outputs": [
        {
          "output_type": "error",
          "ename": "NameError",
          "evalue": "ignored",
          "traceback": [
            "\u001b[0;31m---------------------------------------------------------------------------\u001b[0m",
            "\u001b[0;31mNameError\u001b[0m                                 Traceback (most recent call last)",
            "\u001b[0;32m<ipython-input-9-3d90e7fef3c1>\u001b[0m in \u001b[0;36m<module>\u001b[0;34m\u001b[0m\n\u001b[1;32m      1\u001b[0m \u001b[0;31m#case sensitive error\u001b[0m\u001b[0;34m\u001b[0m\u001b[0;34m\u001b[0m\u001b[0;34m\u001b[0m\u001b[0m\n\u001b[1;32m      2\u001b[0m \u001b[0mname\u001b[0m \u001b[0;34m=\u001b[0m \u001b[0;34m\"Raghv\"\u001b[0m\u001b[0;34m\u001b[0m\u001b[0;34m\u001b[0m\u001b[0m\n\u001b[0;32m----> 3\u001b[0;31m \u001b[0mprint\u001b[0m\u001b[0;34m(\u001b[0m\u001b[0mName\u001b[0m\u001b[0;34m)\u001b[0m\u001b[0;34m\u001b[0m\u001b[0;34m\u001b[0m\u001b[0m\n\u001b[0m",
            "\u001b[0;31mNameError\u001b[0m: name 'Name' is not defined"
          ]
        }
      ]
    },
    {
      "cell_type": "code",
      "source": [
        "#case sensitive error\n",
        "Print(\"Hello Everyone!\")"
      ],
      "metadata": {
        "colab": {
          "base_uri": "https://localhost:8080/",
          "height": 165
        },
        "id": "GGc0QAswBaXY",
        "outputId": "c01b1875-5039-48cd-bcdc-896ff0eb1309"
      },
      "execution_count": 1,
      "outputs": [
        {
          "output_type": "error",
          "ename": "NameError",
          "evalue": "ignored",
          "traceback": [
            "\u001b[0;31m---------------------------------------------------------------------------\u001b[0m",
            "\u001b[0;31mNameError\u001b[0m                                 Traceback (most recent call last)",
            "\u001b[0;32m<ipython-input-1-82c8334e534d>\u001b[0m in \u001b[0;36m<module>\u001b[0;34m\u001b[0m\n\u001b[0;32m----> 1\u001b[0;31m \u001b[0mPrint\u001b[0m\u001b[0;34m(\u001b[0m\u001b[0;34m\"Hello Everyone!\"\u001b[0m\u001b[0;34m)\u001b[0m\u001b[0;34m\u001b[0m\u001b[0;34m\u001b[0m\u001b[0m\n\u001b[0m",
            "\u001b[0;31mNameError\u001b[0m: name 'Print' is not defined"
          ]
        }
      ]
    },
    {
      "cell_type": "code",
      "execution_count": 3,
      "metadata": {
        "colab": {
          "base_uri": "https://localhost:8080/",
          "height": 130
        },
        "id": "Dpk9IRtiAtPo",
        "outputId": "a020b376-1a39-4dba-94ea-84c310705781"
      },
      "outputs": [
        {
          "output_type": "error",
          "ename": "SyntaxError",
          "evalue": "ignored",
          "traceback": [
            "\u001b[0;36m  File \u001b[0;32m\"<ipython-input-3-de4d4a91479c>\"\u001b[0;36m, line \u001b[0;32m1\u001b[0m\n\u001b[0;31m    100number = 100\u001b[0m\n\u001b[0m            ^\u001b[0m\n\u001b[0;31mSyntaxError\u001b[0m\u001b[0;31m:\u001b[0m invalid syntax\n"
          ]
        }
      ],
      "source": [
        "#Variable declaration\n",
        "100number = 100"
      ]
    },
    {
      "cell_type": "code",
      "source": [
        "#Variable declaration\n",
        "100 number = 100"
      ],
      "metadata": {
        "colab": {
          "base_uri": "https://localhost:8080/",
          "height": 130
        },
        "id": "XQ6drXJ6CCtp",
        "outputId": "a1f51ff0-5a18-4eca-9380-5852bb2cf3fe"
      },
      "execution_count": 5,
      "outputs": [
        {
          "output_type": "error",
          "ename": "SyntaxError",
          "evalue": "ignored",
          "traceback": [
            "\u001b[0;36m  File \u001b[0;32m\"<ipython-input-5-5325e393420b>\"\u001b[0;36m, line \u001b[0;32m1\u001b[0m\n\u001b[0;31m    100 number = 100\u001b[0m\n\u001b[0m             ^\u001b[0m\n\u001b[0;31mSyntaxError\u001b[0m\u001b[0;31m:\u001b[0m invalid syntax\n"
          ]
        }
      ]
    },
    {
      "cell_type": "code",
      "source": [
        "#Variable declaration error\n",
        "100-number = 100"
      ],
      "metadata": {
        "colab": {
          "base_uri": "https://localhost:8080/",
          "height": 130
        },
        "id": "r7InUM0HB6AJ",
        "outputId": "2b9fe486-9e30-4411-edcf-723f0b164e57"
      },
      "execution_count": 4,
      "outputs": [
        {
          "output_type": "error",
          "ename": "SyntaxError",
          "evalue": "ignored",
          "traceback": [
            "\u001b[0;36m  File \u001b[0;32m\"<ipython-input-4-873131c30afd>\"\u001b[0;36m, line \u001b[0;32m1\u001b[0m\n\u001b[0;31m    100-number = 100\u001b[0m\n\u001b[0m                    ^\u001b[0m\n\u001b[0;31mSyntaxError\u001b[0m\u001b[0;31m:\u001b[0m can't assign to operator\n"
          ]
        }
      ]
    },
    {
      "cell_type": "code",
      "source": [
        "#reserve key word error when use as variable\n",
        "as = 10"
      ],
      "metadata": {
        "colab": {
          "base_uri": "https://localhost:8080/",
          "height": 130
        },
        "id": "PtbD2J-oZvHd",
        "outputId": "d651cc76-14a4-4357-cd1c-f26965fe0cca"
      },
      "execution_count": 24,
      "outputs": [
        {
          "output_type": "error",
          "ename": "SyntaxError",
          "evalue": "ignored",
          "traceback": [
            "\u001b[0;36m  File \u001b[0;32m\"<ipython-input-24-fc157850ff90>\"\u001b[0;36m, line \u001b[0;32m1\u001b[0m\n\u001b[0;31m    as = 10\u001b[0m\n\u001b[0m     ^\u001b[0m\n\u001b[0;31mSyntaxError\u001b[0m\u001b[0;31m:\u001b[0m invalid syntax\n"
          ]
        }
      ]
    },
    {
      "cell_type": "code",
      "source": [
        "#Convertion error\n",
        "name = \"Raghv\" + 3"
      ],
      "metadata": {
        "colab": {
          "base_uri": "https://localhost:8080/",
          "height": 183
        },
        "id": "I2SRDeVmCYbd",
        "outputId": "76056a5d-b507-4662-f752-9379007424ef"
      },
      "execution_count": 23,
      "outputs": [
        {
          "output_type": "error",
          "ename": "TypeError",
          "evalue": "ignored",
          "traceback": [
            "\u001b[0;31m---------------------------------------------------------------------------\u001b[0m",
            "\u001b[0;31mTypeError\u001b[0m                                 Traceback (most recent call last)",
            "\u001b[0;32m<ipython-input-23-67c4d7d8b8ba>\u001b[0m in \u001b[0;36m<module>\u001b[0;34m\u001b[0m\n\u001b[1;32m      1\u001b[0m \u001b[0;31m#Convertion error\u001b[0m\u001b[0;34m\u001b[0m\u001b[0;34m\u001b[0m\u001b[0;34m\u001b[0m\u001b[0m\n\u001b[0;32m----> 2\u001b[0;31m \u001b[0mname\u001b[0m \u001b[0;34m=\u001b[0m \u001b[0;34m\"Raghv\"\u001b[0m \u001b[0;34m+\u001b[0m \u001b[0;36m3\u001b[0m\u001b[0;34m\u001b[0m\u001b[0;34m\u001b[0m\u001b[0m\n\u001b[0m",
            "\u001b[0;31mTypeError\u001b[0m: can only concatenate str (not \"int\") to str"
          ]
        }
      ]
    },
    {
      "cell_type": "markdown",
      "source": [
        "**Q2. Take input A and B and print their sum, mul, div, square of the nos.**\n",
        "\n",
        "Ans: "
      ],
      "metadata": {
        "id": "uS2mieUAEIga"
      }
    },
    {
      "cell_type": "code",
      "source": [
        "a = int(input(\"Enter First value:\"))\n",
        "b = int(input(\"Enter Second value:\"))\n",
        "\n",
        "print(f\"Sum of a & b: {a +b}\")\n",
        "print(f\"Multiplication of a & b: {a +b}\")\n",
        "print(f\"Division of a & b: {a / b}\")\n",
        "print(f\"Square of a: {a ** 2}\")\n",
        "print(f\"Square of b: {b ** 2}\")"
      ],
      "metadata": {
        "colab": {
          "base_uri": "https://localhost:8080/"
        },
        "id": "PEmSZZfaEbrj",
        "outputId": "cfd4cfec-2ac7-42b9-b857-5755245d1593"
      },
      "execution_count": 22,
      "outputs": [
        {
          "output_type": "stream",
          "name": "stdout",
          "text": [
            "Enter First value:10\n",
            "Enter Second value:5\n",
            "Sum of a & b: 15\n",
            "Multiplication of a & b: 15\n",
            "Division of a & b: 2.0\n",
            "Square of a: 100\n",
            "Square of b: 25\n"
          ]
        }
      ]
    },
    {
      "cell_type": "markdown",
      "source": [
        "**Q3. How many reserve keywords are there in python and why we should not use them as a variable name.**                                                    \n",
        "Ans: and, except, lambda, with, as, finally, nonlocal, while, assert, false, None, yield, break, for, not,  class, from, or, continue, global, pass, def, if, raise, del, import, return, elif, in, True,  else, is, try.\n",
        "\n",
        "Reserve keywords will through invalid syntax error, if we will use them as a variable name."
      ],
      "metadata": {
        "id": "v4nyS-y6IABU"
      }
    },
    {
      "cell_type": "code",
      "source": [
        "as = \"Hello\"\n",
        "print(as)"
      ],
      "metadata": {
        "colab": {
          "base_uri": "https://localhost:8080/",
          "height": 130
        },
        "id": "ZGDxz4ZJJauW",
        "outputId": "99875f14-441f-413c-85ab-b879dc4500ca"
      },
      "execution_count": 12,
      "outputs": [
        {
          "output_type": "error",
          "ename": "SyntaxError",
          "evalue": "ignored",
          "traceback": [
            "\u001b[0;36m  File \u001b[0;32m\"<ipython-input-12-f56255381bea>\"\u001b[0;36m, line \u001b[0;32m1\u001b[0m\n\u001b[0;31m    as = \"Hello\"\u001b[0m\n\u001b[0m     ^\u001b[0m\n\u001b[0;31mSyntaxError\u001b[0m\u001b[0;31m:\u001b[0m invalid syntax\n"
          ]
        }
      ]
    },
    {
      "cell_type": "code",
      "source": [
        "lambda = 10\n",
        "print(lambda)"
      ],
      "metadata": {
        "colab": {
          "base_uri": "https://localhost:8080/",
          "height": 130
        },
        "id": "pfBqHEJBJxsx",
        "outputId": "15b4db32-0a21-49cf-9712-13bde9bebc4c"
      },
      "execution_count": 13,
      "outputs": [
        {
          "output_type": "error",
          "ename": "SyntaxError",
          "evalue": "ignored",
          "traceback": [
            "\u001b[0;36m  File \u001b[0;32m\"<ipython-input-13-9b728951257d>\"\u001b[0;36m, line \u001b[0;32m1\u001b[0m\n\u001b[0;31m    lambda = 10\u001b[0m\n\u001b[0m           ^\u001b[0m\n\u001b[0;31mSyntaxError\u001b[0m\u001b[0;31m:\u001b[0m invalid syntax\n"
          ]
        }
      ]
    },
    {
      "cell_type": "markdown",
      "source": [
        "**Q4. Create email ids with the user inputs. in the following format - lastname.firstname@gmail.com**\n",
        "\n",
        "Ans:"
      ],
      "metadata": {
        "id": "nng81rwxK5w5"
      }
    },
    {
      "cell_type": "code",
      "source": [
        "fname = input(\"Enter first name:\")\n",
        "lname = input(\"Enter last name:\")\n",
        "print(f\"Email ID is: {lname}.{fname}@gmail.com\")"
      ],
      "metadata": {
        "colab": {
          "base_uri": "https://localhost:8080/"
        },
        "id": "Je1f4M-EO5MQ",
        "outputId": "8fbe45e8-f5d5-4447-9310-45d2c60b75e3"
      },
      "execution_count": 14,
      "outputs": [
        {
          "output_type": "stream",
          "name": "stdout",
          "text": [
            "Enter first name:raghvendra\n",
            "Enter last name:singh\n",
            "Email ID is: singh.raghvendra@gmail.com\n"
          ]
        }
      ]
    },
    {
      "cell_type": "markdown",
      "source": [
        "**Q5:** Try to print the following lines -                                          \n",
        "Hi I'm Sunny                                                                   \n",
        "My address is 22\\3                                                            \n",
        "I earn 20$ daily. \n",
        "\n",
        "**Ans:**"
      ],
      "metadata": {
        "id": "EvI1DdtdP_6o"
      }
    },
    {
      "cell_type": "code",
      "source": [
        "print(\"\"\"\n",
        "      Hi I'm Sunny\n",
        "      Hi I'm Sunny\n",
        "      I earn 20$ daily.\n",
        "      \"\"\")"
      ],
      "metadata": {
        "colab": {
          "base_uri": "https://localhost:8080/"
        },
        "id": "ssBKzcwqQXQw",
        "outputId": "5485bb00-55fb-463e-8eb2-c26542313e40"
      },
      "execution_count": 15,
      "outputs": [
        {
          "output_type": "stream",
          "name": "stdout",
          "text": [
            "\n",
            "      Hi I'm Sunny\n",
            "      Hi I'm Sunny\n",
            "      I earn 20$ daily.\n",
            "      \n"
          ]
        }
      ]
    },
    {
      "cell_type": "code",
      "source": [
        "print(\"Hi I'm Sunny\\nHi I'm Sunny\\nI earn 20$ daily.\")"
      ],
      "metadata": {
        "colab": {
          "base_uri": "https://localhost:8080/"
        },
        "id": "rgT6cKtPRaXC",
        "outputId": "bb8ec0f1-06d4-459b-a2f1-fa0f717e2c37"
      },
      "execution_count": 17,
      "outputs": [
        {
          "output_type": "stream",
          "name": "stdout",
          "text": [
            "Hi I'm Sunny\n",
            "Hi I'm Sunny\n",
            "I earn 20$ daily.\n"
          ]
        }
      ]
    },
    {
      "cell_type": "markdown",
      "source": [
        "**Q6. Take user input (name, address, date of birth etc) to fill a form for your college and print their email IDs**\n",
        "\n",
        "**Ans:** "
      ],
      "metadata": {
        "id": "nJ6Z3niyR4eE"
      }
    },
    {
      "cell_type": "code",
      "source": [
        "fname = input(\"Enter first name:\")\n",
        "lname = input(\"Enter second name:\")\n",
        "address = input(\"Enter address:\")\n",
        "dateofbirth = input(\"Enter date of birth:\")\n",
        "\n",
        "print(f\"Email ID: {fname}.{lname}@gmail.com\")"
      ],
      "metadata": {
        "colab": {
          "base_uri": "https://localhost:8080/"
        },
        "id": "X_kJ5nNoSNV0",
        "outputId": "fcbd5819-2208-49ce-e969-8f8cbfe655db"
      },
      "execution_count": 19,
      "outputs": [
        {
          "output_type": "stream",
          "name": "stdout",
          "text": [
            "Enter first name:Mehul\n",
            "Enter second name:Singh\n",
            "Enter address:A2/502\n",
            "Enter date of birth:10/10/2005\n",
            "Email ID: Mehul.Singh@gmail.com\n"
          ]
        }
      ]
    },
    {
      "cell_type": "markdown",
      "source": [
        "**Q7. Convert the following -**                                           \n",
        "\"22.4\" into integer                                                            \n",
        "\"22\" into complex no. \n",
        "\n",
        "**Ans:**"
      ],
      "metadata": {
        "id": "r4YcvyLpVELA"
      }
    },
    {
      "cell_type": "code",
      "source": [
        "#can't convert \"22.4\" into integer directly\n",
        "#first need to convert in float\n",
        "#then need to convert into integer\n",
        "\n",
        "a = int(float(\"22.4\"))\n",
        "b = complex(\"22\")\n",
        "\n",
        "print(a)\n",
        "print(b)"
      ],
      "metadata": {
        "colab": {
          "base_uri": "https://localhost:8080/"
        },
        "id": "LM1LtNt9bV2B",
        "outputId": "0f904466-00de-49f6-a833-24e940b2aefe"
      },
      "execution_count": 34,
      "outputs": [
        {
          "output_type": "stream",
          "name": "stdout",
          "text": [
            "22\n",
            "(22+0j)\n"
          ]
        }
      ]
    }
  ]
}