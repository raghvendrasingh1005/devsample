{
  "nbformat": 4,
  "nbformat_minor": 0,
  "metadata": {
    "colab": {
      "provenance": [],
      "authorship_tag": "ABX9TyN+kRliftOLmWy4WB7FoHfO",
      "include_colab_link": true
    },
    "kernelspec": {
      "name": "python3",
      "display_name": "Python 3"
    },
    "language_info": {
      "name": "python"
    }
  },
  "cells": [
    {
      "cell_type": "markdown",
      "metadata": {
        "id": "view-in-github",
        "colab_type": "text"
      },
      "source": [
        "<a href=\"https://colab.research.google.com/github/raghvendrasingh1005/devsample/blob/master/assignment_002_Oct_01.ipynb\" target=\"_parent\"><img src=\"https://colab.research.google.com/assets/colab-badge.svg\" alt=\"Open In Colab\"/></a>"
      ]
    },
    {
      "cell_type": "code",
      "execution_count": null,
      "metadata": {
        "id": "VNC2Bj0JG6D7"
      },
      "outputs": [],
      "source": []
    },
    {
      "cell_type": "markdown",
      "source": [
        "**1. What is indentation error? Why indentation is important? Give one simple example?**"
      ],
      "metadata": {
        "id": "-48zwv7MHHui"
      }
    },
    {
      "cell_type": "markdown",
      "source": [
        "Python will give you an error if you skip the indentation.\n",
        "Python uses indentation to indicate a block of code."
      ],
      "metadata": {
        "id": "oADx_KrYHTwk"
      }
    },
    {
      "cell_type": "code",
      "source": [
        "#indentation is missing in print statement\n",
        "if 6 > 2:\n",
        "print(\"Six is greater than 2\")"
      ],
      "metadata": {
        "colab": {
          "base_uri": "https://localhost:8080/",
          "height": 130
        },
        "id": "162A2rZ3IOLf",
        "outputId": "b7b2c2a3-2c8b-4d4f-eb95-9bb1061bb10e"
      },
      "execution_count": 8,
      "outputs": [
        {
          "output_type": "error",
          "ename": "IndentationError",
          "evalue": "ignored",
          "traceback": [
            "\u001b[0;36m  File \u001b[0;32m\"<ipython-input-8-b4b455928619>\"\u001b[0;36m, line \u001b[0;32m3\u001b[0m\n\u001b[0;31m    print(\"Six is greater than 2\")\u001b[0m\n\u001b[0m        ^\u001b[0m\n\u001b[0;31mIndentationError\u001b[0m\u001b[0;31m:\u001b[0m expected an indented block\n"
          ]
        }
      ]
    },
    {
      "cell_type": "code",
      "source": [
        "#indentation added in print statement\n",
        "if 6 > 2:\n",
        "  print(\"Six is greater than 2\")\n",
        "  "
      ],
      "metadata": {
        "colab": {
          "base_uri": "https://localhost:8080/"
        },
        "id": "tfe9r7_CI4wx",
        "outputId": "96ade0fd-d62b-4e28-b9d2-be8edaca8fc4"
      },
      "execution_count": 9,
      "outputs": [
        {
          "output_type": "stream",
          "name": "stdout",
          "text": [
            "Six is greater than 2\n"
          ]
        }
      ]
    },
    {
      "cell_type": "markdown",
      "source": [
        "**2. Correct the following code and write the comment where you made the correction?**\n"
      ],
      "metadata": {
        "id": "SpL4jooyL0em"
      }
    },
    {
      "cell_type": "markdown",
      "source": [],
      "metadata": {
        "id": "mKL817KTJ7dx"
      }
    },
    {
      "cell_type": "code",
      "source": [
        "class_started = eval(input(\"Hey friend, is class started?: [0-False/1-True]: \")) #Use eval instead of bool\n",
        "\n",
        "if class_started:\n",
        "   print(\"Since class started...\")\n",
        "   print(\"Lets concentrate\")\n",
        "else:\n",
        "   print(\"Since class is not started...\")\n",
        "   print(\"let's revise\") "
      ],
      "metadata": {
        "colab": {
          "base_uri": "https://localhost:8080/"
        },
        "id": "e23uwW0xLxms",
        "outputId": "1236cae5-3dd8-4780-ac48-e16ec7650c64"
      },
      "execution_count": 59,
      "outputs": [
        {
          "output_type": "stream",
          "name": "stdout",
          "text": [
            "Hey friend, is class started?: [0-False/1-True]: 1\n",
            "Since class started...\n",
            "Lets concentrate\n"
          ]
        }
      ]
    },
    {
      "cell_type": "code",
      "source": [
        "class_started = eval(input(\"Hey friend, is class started?: [0-False/1-True]: \")) #Use eval instead of bool\n",
        "\n",
        "if class_started:\n",
        "   print(\"Since class started...\")\n",
        "   print(\"Lets concentrate\")\n",
        "else:\n",
        "   print(\"Since class is not started...\")\n",
        "   print(\"let's revise\") "
      ],
      "metadata": {
        "colab": {
          "base_uri": "https://localhost:8080/"
        },
        "id": "f4D5sWLcMKtr",
        "outputId": "855f4935-8cf8-4601-a09f-78687077280b"
      },
      "execution_count": 61,
      "outputs": [
        {
          "output_type": "stream",
          "name": "stdout",
          "text": [
            "Hey friend, is class started?: [0-False/1-True]: 0\n",
            "Since class is not started...\n",
            "let's revise\n"
          ]
        }
      ]
    },
    {
      "cell_type": "markdown",
      "source": [
        "**3. Use if else condition to verify that dataype of input() method in python is always string.**"
      ],
      "metadata": {
        "id": "u-e-as01Ov5_"
      }
    },
    {
      "cell_type": "code",
      "source": [
        "a = input(\"Please enter value: \")\n",
        "\n",
        "if type(a) is str:\n",
        "  print(\"Entered value is string\")\n",
        "else:\n",
        "  print(\"Entered value is not string\")\n"
      ],
      "metadata": {
        "colab": {
          "base_uri": "https://localhost:8080/"
        },
        "id": "XXJgHcWyOySy",
        "outputId": "eb2d5cd4-f9a2-4b5f-b9c6-fefb75464178"
      },
      "execution_count": 57,
      "outputs": [
        {
          "output_type": "stream",
          "name": "stdout",
          "text": [
            "Please enter value: Raghv\n",
            "Entered value is string\n"
          ]
        }
      ]
    },
    {
      "cell_type": "code",
      "source": [
        "a = input(\"Please enter value: \")\n",
        "\n",
        "if type(a) is str:\n",
        "  print(\"Entered value is string\")\n",
        "else:\n",
        "  print(\"Entered value is not string\")"
      ],
      "metadata": {
        "colab": {
          "base_uri": "https://localhost:8080/"
        },
        "id": "xyCVXzA8m4Gv",
        "outputId": "c72fa8dd-65a8-4f19-d65b-ff60012eea1d"
      },
      "execution_count": 58,
      "outputs": [
        {
          "output_type": "stream",
          "name": "stdout",
          "text": [
            "Please enter value: 10\n",
            "Entered value is string\n"
          ]
        }
      ]
    },
    {
      "cell_type": "markdown",
      "source": [
        "**4. Take 3 variables and assign integer values to them. Find the largest variable, by only using the if and else conditions.**"
      ],
      "metadata": {
        "id": "FXiSjzMdSrQ3"
      }
    },
    {
      "cell_type": "code",
      "source": [
        "a, b, c = 10, 15, 2\n",
        "\n",
        "if a > b and a > c:\n",
        "  print(f\"largest varibale is {a}\")\n",
        "elif b > a and b > c:\n",
        "  print(f\"largest varibale is {b}\")\n",
        "else:\n",
        "  print(f\"largest varibale is {c}\")\n",
        "\n",
        "\n"
      ],
      "metadata": {
        "colab": {
          "base_uri": "https://localhost:8080/"
        },
        "id": "VBTeOEbWSyOk",
        "outputId": "622b0add-7a86-4524-8e45-bb5ffa0feef4"
      },
      "execution_count": 19,
      "outputs": [
        {
          "output_type": "stream",
          "name": "stdout",
          "text": [
            "largest varibale is 15\n"
          ]
        }
      ]
    },
    {
      "cell_type": "markdown",
      "source": [
        "**5. What would be the solution?**\n",
        "\n",
        "True\n",
        "\n",
        "False \n",
        "\n",
        "a = 6\n",
        "b = 10\n",
        "print( not ( not a == 10 or not b == 10) )"
      ],
      "metadata": {
        "id": "ocmJT0BuUc6Y"
      }
    },
    {
      "cell_type": "code",
      "source": [
        "a = 6\n",
        "b = 10\n",
        "print( not ( not a == 10 or not b == 10) )"
      ],
      "metadata": {
        "colab": {
          "base_uri": "https://localhost:8080/"
        },
        "id": "NmhFRcCJUkGe",
        "outputId": "b1abf0cc-b0c9-4e67-9938-0846f597e10e"
      },
      "execution_count": 20,
      "outputs": [
        {
          "output_type": "stream",
          "name": "stdout",
          "text": [
            "False\n"
          ]
        }
      ]
    },
    {
      "cell_type": "markdown",
      "source": [
        "**6. Find the answer as well as find out the reason behind the result? -**\n",
        "\n",
        "case 1:\n",
        "  A = 5.0\n",
        "  B = 10/2\n",
        "  print(A is B)\n",
        "case 2:\n",
        "  A = 5.0\n",
        "  B = int(10/2)\n",
        "  print(A is B)\n",
        "case 3:\n",
        "  A = 5.0\n",
        "  B = float(10/2)\n",
        "  print(A is B)"
      ],
      "metadata": {
        "id": "q5-N_xwnVHlC"
      }
    },
    {
      "cell_type": "code",
      "source": [
        "#case 1 (A is float type and B is integer type and ids are not matching so result will be False)\n",
        "A = 5.0\n",
        "B = 10/2\n",
        "print(id(A))\n",
        "print(id(B))\n",
        "print(A is B)"
      ],
      "metadata": {
        "colab": {
          "base_uri": "https://localhost:8080/"
        },
        "id": "pDnQHaWAVKne",
        "outputId": "21719793-071a-451c-d3ec-e47c42bc00da"
      },
      "execution_count": 49,
      "outputs": [
        {
          "output_type": "stream",
          "name": "stdout",
          "text": [
            "139724456278640\n",
            "139724456278224\n",
            "False\n"
          ]
        }
      ]
    },
    {
      "cell_type": "code",
      "source": [
        "#case 2 (A is float type and B is integer type and ids are not matching so result will be False)\n",
        "A = 5.0\n",
        "B = int(10/2)\n",
        "print(id(A))\n",
        "print(id(B))\n",
        "print(A is B)"
      ],
      "metadata": {
        "colab": {
          "base_uri": "https://localhost:8080/"
        },
        "id": "K547JO9KUSUI",
        "outputId": "921e77cc-5212-49da-e974-b55b326cdf82"
      },
      "execution_count": 50,
      "outputs": [
        {
          "output_type": "stream",
          "name": "stdout",
          "text": [
            "139724456163248\n",
            "11122720\n",
            "False\n"
          ]
        }
      ]
    },
    {
      "cell_type": "code",
      "source": [
        "#case 3 (A is float type and B is float type but ids are not matching so result will be False)\n",
        "A = 5.0\n",
        "B = float(10/2)\n",
        "print(id(A))\n",
        "print(id(B))\n",
        "print(A is B)"
      ],
      "metadata": {
        "colab": {
          "base_uri": "https://localhost:8080/"
        },
        "id": "Urh3BakKWAXw",
        "outputId": "b65c9fd2-85b9-4471-8c54-569e05c69776"
      },
      "execution_count": 28,
      "outputs": [
        {
          "output_type": "stream",
          "name": "stdout",
          "text": [
            "139724456482896\n",
            "139724456482864\n",
            "False\n"
          ]
        }
      ]
    },
    {
      "cell_type": "markdown",
      "source": [
        "**7. Write a program that asks the user to enter a number. You should print out a message to the user, either “That number is divisible by either 3 or 5”, or “That number is not divisible by either 3 or 5”. Be sure to consider the data type of the input you are taking in from the user. Use a single if/else block to solve this problem.**"
      ],
      "metadata": {
        "id": "Weh-HkhIXdnp"
      }
    },
    {
      "cell_type": "code",
      "source": [
        "num = int(input(\"Enter a number: \"))\n",
        "\n",
        "if num % 3 == 0 or num % 5 == 0:\n",
        "  print(\"That number is divisible by either 3 or 5\")\n",
        "else:\n",
        "  print(\"That number is not divisible by either 3 or 5\")\n"
      ],
      "metadata": {
        "colab": {
          "base_uri": "https://localhost:8080/"
        },
        "id": "HITr05ZSXhq0",
        "outputId": "d8babf88-5187-4b28-c346-ecaeca757b20"
      },
      "execution_count": 38,
      "outputs": [
        {
          "output_type": "stream",
          "name": "stdout",
          "text": [
            "Enter a number: 20\n",
            "That number is divisible by either 3 or 5\n"
          ]
        }
      ]
    },
    {
      "cell_type": "markdown",
      "source": [
        "**8. Take user input for length and width. Then calculate the area of rectangle. Also print as per length and width whether its a square of rectangle.**"
      ],
      "metadata": {
        "id": "qxqUraUyZdl5"
      }
    },
    {
      "cell_type": "code",
      "source": [
        "length = int(input(\"Enter length: \"))\n",
        "width = int(input(\"Enter width: \"))\n",
        "\n",
        "area = length * width\n",
        "\n",
        "if length == width:\n",
        "  print(f\"Area of square: {area}\")\n",
        "  print(\"It's a square\")\n",
        "else:\n",
        "  print(f\"Area of rectangle: {area}\")\n",
        "  print(\"It's a rectangle\")"
      ],
      "metadata": {
        "colab": {
          "base_uri": "https://localhost:8080/"
        },
        "id": "X3_dbe-qZiHm",
        "outputId": "a30b1b4d-88e5-44b7-86b5-71f462e34bca"
      },
      "execution_count": 42,
      "outputs": [
        {
          "output_type": "stream",
          "name": "stdout",
          "text": [
            "Enter length: 10\n",
            "Enter width: 8\n",
            "Area of rectangle: 80\n",
            "It's a rectangle\n"
          ]
        }
      ]
    },
    {
      "cell_type": "markdown",
      "source": [
        "**9.Take two variable radius_1 and radius_2 and calculate the area of circle_1 and circle_2. Also print which circle has large area. If area is equal then print area is equal.**"
      ],
      "metadata": {
        "id": "K1QYKSvJc4HO"
      }
    },
    {
      "cell_type": "code",
      "source": [
        "radius_1 = int(input(\"radius_1: \"))\n",
        "radius_2 = int(input(\"radius_2: \"))\n",
        "area_circle_1 = 3.13 * radius_1 * radius_1 # area of circle = pi*r*r\n",
        "area_circle_2 = 3.13 * radius_2 * radius_2 # area of circle = pi*r*r\n",
        "\n",
        "print(f\"Area of circle_1: {area_circle_1}\") \n",
        "print(f\"Area of circle_2: {area_circle_2}\")\n",
        "if area_circle_1 > area_circle_2:\n",
        "  print(\"circle_1 has large area\")\n",
        "elif area_circle_1 < area_circle_2:\n",
        "  print(\"circle_2 has large area\")\n",
        "else:\n",
        "  print(\"circle_1 and circle_2 has equal area\")\n",
        "\n"
      ],
      "metadata": {
        "colab": {
          "base_uri": "https://localhost:8080/"
        },
        "id": "IBQndnKxc_a0",
        "outputId": "5abf8a4f-6c5d-480e-8eaf-d7a4ed76f913"
      },
      "execution_count": 44,
      "outputs": [
        {
          "output_type": "stream",
          "name": "stdout",
          "text": [
            "radius_1: 10\n",
            "radius_2: 8\n",
            "Area of circle_1: 313.0\n",
            "Area of circle_2: 200.32\n",
            "circle_1 has large area\n"
          ]
        }
      ]
    },
    {
      "cell_type": "code",
      "source": [
        "radius_1 = int(input(\"radius_1: \"))\n",
        "radius_2 = int(input(\"radius_2: \"))\n",
        "area_circle_1 = 3.13 * radius_1 * radius_1 # area of circle = pi*r*r\n",
        "area_circle_2 = 3.13 * radius_2 * radius_2 # area of circle = pi*r*r\n",
        "\n",
        "print(f\"Area of circle_1: {area_circle_1}\") \n",
        "print(f\"Area of circle_2: {area_circle_2}\")\n",
        "if area_circle_1 > area_circle_2:\n",
        "  print(\"circle_1 has large area\")\n",
        "elif area_circle_1 < area_circle_2:\n",
        "  print(\"circle_2 has large area\")\n",
        "else:\n",
        "  print(\"circle_1 and circle_2 has equal area\")"
      ],
      "metadata": {
        "colab": {
          "base_uri": "https://localhost:8080/"
        },
        "id": "jdcWYc5XgXtM",
        "outputId": "e94e1834-fda3-4b00-809b-893fa34e941c"
      },
      "execution_count": 45,
      "outputs": [
        {
          "output_type": "stream",
          "name": "stdout",
          "text": [
            "radius_1: 10\n",
            "radius_2: 10\n",
            "Area of circle_1: 313.0\n",
            "Area of circle_2: 313.0\n",
            "circle_1 and circle_2 has equal area\n"
          ]
        }
      ]
    },
    {
      "cell_type": "markdown",
      "source": [
        "**10. Check whether a year is leap year or not. Use nested if...else to solve this problem. A leap year is exactly divisible by 4 except for century years (years ending with 00). The century year is a leap year only if it is perfectly divisible by 400.**"
      ],
      "metadata": {
        "id": "wyiw51wMgeZd"
      }
    },
    {
      "cell_type": "code",
      "source": [
        "leap_year = int(input(\"Enter year: \"))\n",
        "\n",
        "if leap_year % 4 == 0 and leap_year % 100 != 0:\n",
        "  print(f\"{leap_year} is Leap year\")\n",
        "elif leap_year % 400 == 0 and leap_year % 100 == 0:\n",
        "  print(f\"{leap_year} is leap year\")\n",
        "else:\n",
        "  print(f\"{leap_year} is not leap year\")"
      ],
      "metadata": {
        "colab": {
          "base_uri": "https://localhost:8080/"
        },
        "id": "YI-aCE3ZgnNf",
        "outputId": "b16179f0-40d1-4238-e2ef-df505dc53812"
      },
      "execution_count": 47,
      "outputs": [
        {
          "output_type": "stream",
          "name": "stdout",
          "text": [
            "Enter year: 2000\n",
            "2000 is leap year\n"
          ]
        }
      ]
    },
    {
      "cell_type": "code",
      "source": [
        "leap_year = int(input(\"Enter year: \"))\n",
        "\n",
        "if leap_year % 4 == 0 and leap_year % 100 != 0:\n",
        "  print(f\"{leap_year} is Leap year\")\n",
        "elif leap_year % 400 == 0 and leap_year % 100 == 0:\n",
        "  print(f\"{leap_year} is leap year\")\n",
        "else:\n",
        "  print(f\"{leap_year} is not leap year\")"
      ],
      "metadata": {
        "colab": {
          "base_uri": "https://localhost:8080/"
        },
        "id": "UJCQZQBrjTQb",
        "outputId": "175541ff-6770-4782-ea7c-73f0a63ca95b"
      },
      "execution_count": 48,
      "outputs": [
        {
          "output_type": "stream",
          "name": "stdout",
          "text": [
            "Enter year: 1900\n",
            "1900 is not leap year\n"
          ]
        }
      ]
    }
  ]
}