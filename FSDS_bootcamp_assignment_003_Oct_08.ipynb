{
  "nbformat": 4,
  "nbformat_minor": 0,
  "metadata": {
    "colab": {
      "provenance": [],
      "authorship_tag": "ABX9TyOZ7T3iRd/l2CGIY+N9MbGF",
      "include_colab_link": true
    },
    "kernelspec": {
      "name": "python3",
      "display_name": "Python 3"
    },
    "language_info": {
      "name": "python"
    }
  },
  "cells": [
    {
      "cell_type": "markdown",
      "metadata": {
        "id": "view-in-github",
        "colab_type": "text"
      },
      "source": [
        "<a href=\"https://colab.research.google.com/github/raghvendrasingh1005/devsample/blob/master/FSDS_bootcamp_assignment_003_Oct_08.ipynb\" target=\"_parent\"><img src=\"https://colab.research.google.com/assets/colab-badge.svg\" alt=\"Open In Colab\"/></a>"
      ]
    },
    {
      "cell_type": "markdown",
      "source": [
        "**Python String Manipulation**"
      ],
      "metadata": {
        "id": "ypRAZEOyIFUw"
      }
    },
    {
      "cell_type": "markdown",
      "source": [
        "1. Count the number of times iNeuron appears in the string.\n",
        "\n",
        "   text = \"Welcome to iNeuron, You are a part of FSDS Bootcamp 2 in iNeuron. I          hope you are enjoying the course by iNeuron\""
      ],
      "metadata": {
        "id": "m5qLG03MIJ4L"
      }
    },
    {
      "cell_type": "code",
      "source": [
        "text = \"Welcome to iNeuron, You are a part of FSDS Bootcamp 2 in iNeuron. I hope you are enjoying the course by iNeuron\"\n",
        "\n",
        "count = text.count(\"iNeuron\")\n",
        "print(f\"Number of iNeuron in the string: {count}\")"
      ],
      "metadata": {
        "colab": {
          "base_uri": "https://localhost:8080/"
        },
        "id": "YvVA7xwfIfip",
        "outputId": "2d81abcf-0466-46d3-a4d4-c061b9b28d81"
      },
      "execution_count": 5,
      "outputs": [
        {
          "output_type": "stream",
          "name": "stdout",
          "text": [
            "Number of iNeuron in the string: 3\n"
          ]
        }
      ]
    },
    {
      "cell_type": "markdown",
      "source": [
        "2. Check if position 5 to 11 ends with the phrase iNeuron. in the string\n",
        "\n",
        "   txt = \"Hello, welcome to FSDS 2.0 at iNeuron.\""
      ],
      "metadata": {
        "id": "pY_pe0Y-Jofc"
      }
    },
    {
      "cell_type": "code",
      "source": [
        "txt = \"Hello, welcome to FSDS 2.0 at iNeuron.\"\n",
        "\n",
        "if txt[4:11] == \"iNeuron\":\n",
        "  print(\"Position 5 to 11 ends with the phrase iNeuron. in the string\")\n",
        "else:\n",
        "  print(\"Position 5 to 11 doesn't end with the phrase iNeuron. in the string\")\n"
      ],
      "metadata": {
        "colab": {
          "base_uri": "https://localhost:8080/"
        },
        "id": "2aCbN6X7Jxds",
        "outputId": "180290ac-4f11-405d-ae48-b9c4739df5a1"
      },
      "execution_count": 49,
      "outputs": [
        {
          "output_type": "stream",
          "name": "stdout",
          "text": [
            "Position 5 to 11 doesn't end with the phrase iNeuron. in the string\n"
          ]
        }
      ]
    },
    {
      "cell_type": "markdown",
      "source": [
        "3. Write a program that takes your full name as input and displays the abbreviations of the first and middle names except the last name which is displayed as it is. For example, if your name is Sunny Bhaveen Chandra, then the output should be S.B.Chandra."
      ],
      "metadata": {
        "id": "lWoXDfSHNmFo"
      }
    },
    {
      "cell_type": "code",
      "source": [
        "name = input(\"Enter Full Name: \")\n",
        "\n",
        "firstname, middlename, lastname = name.split(\" \")\n",
        "\n",
        "print(f\"FirstName: {firstname}\")\n",
        "print(f\"MiddleName: {middlename}\")\n",
        "print(f\"LastName: {lastname}\")\n",
        "\n",
        "print(f\"Name:  {firstname[0]}.{middlename[0]}.{lastname}\")\n",
        "\n"
      ],
      "metadata": {
        "colab": {
          "base_uri": "https://localhost:8080/"
        },
        "id": "2DBWAcyHNsdt",
        "outputId": "20bec60d-018e-4b54-f956-34a9a7b238b6"
      },
      "execution_count": 14,
      "outputs": [
        {
          "output_type": "stream",
          "name": "stdout",
          "text": [
            "Enter Full Name: Raghvendra Pratap Singh\n",
            "FirstName: Raghvendra\n",
            "MiddleName: Pratap\n",
            "LastName: Singh\n",
            "Name:  R.P.Singh\n"
          ]
        }
      ]
    },
    {
      "cell_type": "markdown",
      "source": [
        "4. Join all items in a list into a string, using a hash(#) character as separator: \n",
        "\n",
        "  LIST = [\"My\", \"name\", \"is\", \"Rishav\", \"Dash\"]"
      ],
      "metadata": {
        "id": "8Vi9ca6uRUgf"
      }
    },
    {
      "cell_type": "code",
      "source": [
        "LIST = [\"My\", \"name\", \"is\", \"Rishav\", \"Dash\"]\n",
        "\n",
        "mystring = \"\"\n",
        "for i in LIST:\n",
        "  mystring += i + \" \"\n",
        "  name = mystring.replace(\" \", \"#\")\n",
        "\n",
        "#Remove the last hash(#)\n",
        "print(name[:-1])\n",
        "    "
      ],
      "metadata": {
        "colab": {
          "base_uri": "https://localhost:8080/"
        },
        "id": "-6BZ5sxgRZyx",
        "outputId": "a5c031b7-5e75-498b-8a20-a65a912bb030"
      },
      "execution_count": 42,
      "outputs": [
        {
          "output_type": "stream",
          "name": "stdout",
          "text": [
            "My#name#is#Rishav#Dash\n"
          ]
        }
      ]
    },
    {
      "cell_type": "markdown",
      "source": [
        "5. Write example for the following string manipulation function,\n",
        "- isdecimal()\n",
        "- islower()\n",
        "- isupper()\n",
        "- isalpha()\n",
        "- isnumeric()"
      ],
      "metadata": {
        "id": "rLHxZjO4gL1Q"
      }
    },
    {
      "cell_type": "code",
      "source": [
        "# example of isdecimal()\n",
        "number = '12345'\n",
        "print(number.isdecimal())\n",
        "\n",
        "# example of islower()\n",
        "name = \"Raghvendra\"\n",
        "print(name.islower())\n",
        "\n",
        "# example of isupper()\n",
        "print(name.isupper())\n",
        "\n",
        "# example of isalpha()\n",
        "name = \"Raghvendra\"\n",
        "print(name.isalpha())\n",
        "\n",
        "# contains whitespace\n",
        "name = \"Raghvendra Singh\"\n",
        "print(name.isalpha())\n",
        "\n",
        "# contains number\n",
        "name = \"Ragh34Sing\"\n",
        "print(name.isalpha())\n",
        "\n",
        "\n",
        "symbol_number = \"012345\"\n",
        "\n",
        "# returns True as symbol_number has all numeric characters  \n",
        "print(symbol_number.isnumeric()) \n",
        "\n",
        "text = \"Python3\"\n",
        "\n",
        "# returns False as every character of text is not numeric \n",
        "print(text.isnumeric())\n"
      ],
      "metadata": {
        "colab": {
          "base_uri": "https://localhost:8080/"
        },
        "id": "NJ7LxG1kgSGe",
        "outputId": "b78a2d7a-00db-4058-a6d2-e2e0024b402c"
      },
      "execution_count": 48,
      "outputs": [
        {
          "output_type": "stream",
          "name": "stdout",
          "text": [
            "True\n",
            "False\n",
            "False\n",
            "True\n",
            "False\n",
            "False\n",
            "True\n",
            "False\n"
          ]
        }
      ]
    },
    {
      "cell_type": "markdown",
      "source": [
        "6. Indian PAN card format follows the following formats -\n",
        "   \n",
        "   *   AYEPC7894X\n",
        "   *   ABCDE9999Y\n",
        "\n",
        "   Take user input for PAN_CARD and validate as per the above      example."
      ],
      "metadata": {
        "id": "ArPvqQVXzsWt"
      }
    },
    {
      "cell_type": "code",
      "source": [
        "pan_number = input(\"Enter PAN Card number: \").upper()\n",
        "\n",
        "if len(pan_number) == 10: \n",
        "  if pan_number[0:5].isalpha() and pan_number.isalnum() and pan_number[5:-1].isdigit and pan_number[-1].isalpha() and pan_number.isspace() == False:\n",
        "   print(f\"PAN Card is validate: {pan_number}\")\n",
        "  else:\n",
        "   print(f\"PAN Card is not validate: {pan_number}\")\n",
        "else:\n",
        "  if len(pan_number) < 10 or len(pan_number) > 10:\n",
        "     print(f\"PAN Cars is not validate: {pan_number}\")"
      ],
      "metadata": {
        "colab": {
          "base_uri": "https://localhost:8080/"
        },
        "id": "55UCL_K7z3Sj",
        "outputId": "87a725bd-e676-4bfb-e0c9-e9f6caac0e30"
      },
      "execution_count": 115,
      "outputs": [
        {
          "output_type": "stream",
          "name": "stdout",
          "text": [
            "Enter PAN Card number: AYEP67894X\n",
            "PAN Card is not validate: AYEP67894X\n"
          ]
        }
      ]
    }
  ]
}