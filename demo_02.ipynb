{
  "nbformat": 4,
  "nbformat_minor": 0,
  "metadata": {
    "colab": {
      "provenance": [],
      "authorship_tag": "ABX9TyO/3Z+5XCv8hUKjdLIOi1At",
      "include_colab_link": true
    },
    "kernelspec": {
      "name": "python3",
      "display_name": "Python 3"
    },
    "language_info": {
      "name": "python"
    }
  },
  "cells": [
    {
      "cell_type": "markdown",
      "metadata": {
        "id": "view-in-github",
        "colab_type": "text"
      },
      "source": [
        "<a href=\"https://colab.research.google.com/github/raghvendrasingh1005/devsample/blob/master/demo_02.ipynb\" target=\"_parent\"><img src=\"https://colab.research.google.com/assets/colab-badge.svg\" alt=\"Open In Colab\"/></a>"
      ]
    },
    {
      "cell_type": "code",
      "execution_count": 1,
      "metadata": {
        "id": "q76b2sa4T0YU",
        "colab": {
          "base_uri": "https://localhost:8080/"
        },
        "outputId": "403c61a1-95d2-4957-cfd3-b2ad8f9ee4f2"
      },
      "outputs": [
        {
          "output_type": "stream",
          "name": "stdout",
          "text": [
            "Hello Everyone\n"
          ]
        }
      ],
      "source": [
        "print(\"Hello Everyone\")"
      ]
    },
    {
      "cell_type": "code",
      "source": [
        "ten = 10\n",
        "tem_ref =10\n",
        "ten-ref =10"
      ],
      "metadata": {
        "colab": {
          "base_uri": "https://localhost:8080/",
          "height": 131
        },
        "id": "qQBjp1MYFbeY",
        "outputId": "e493a764-72b4-4cbc-97a5-27b0014a6584"
      },
      "execution_count": 6,
      "outputs": [
        {
          "output_type": "error",
          "ename": "SyntaxError",
          "evalue": "ignored",
          "traceback": [
            "\u001b[0;36m  File \u001b[0;32m\"<ipython-input-6-5a1a2928a3af>\"\u001b[0;36m, line \u001b[0;32m3\u001b[0m\n\u001b[0;31m    ten-ref =10\u001b[0m\n\u001b[0m               ^\u001b[0m\n\u001b[0;31mSyntaxError\u001b[0m\u001b[0;31m:\u001b[0m can't assign to operator\n"
          ]
        }
      ]
    },
    {
      "cell_type": "code",
      "source": [
        "print(ten)"
      ],
      "metadata": {
        "colab": {
          "base_uri": "https://localhost:8080/"
        },
        "id": "V_cMcsy3SdoD",
        "outputId": "0e409a81-f5fb-4408-a977-626cbbeebd06"
      },
      "execution_count": 7,
      "outputs": [
        {
          "output_type": "stream",
          "name": "stdout",
          "text": [
            "10\n"
          ]
        }
      ]
    },
    {
      "cell_type": "markdown",
      "source": [],
      "metadata": {
        "id": "r1N1Q4KTXSg1"
      }
    }
  ]
}