{
  "nbformat": 4,
  "nbformat_minor": 0,
  "metadata": {
    "colab": {
      "provenance": [],
      "authorship_tag": "ABX9TyNZyH9seGSeGriIO4OV1TQO",
      "include_colab_link": true
    },
    "kernelspec": {
      "name": "python3",
      "display_name": "Python 3"
    },
    "language_info": {
      "name": "python"
    }
  },
  "cells": [
    {
      "cell_type": "markdown",
      "metadata": {
        "id": "view-in-github",
        "colab_type": "text"
      },
      "source": [
        "<a href=\"https://colab.research.google.com/github/raghvendrasingh1005/devsample/blob/master/FSDS_bootcamp_assignment_004_Oct_09.ipynb\" target=\"_parent\"><img src=\"https://colab.research.google.com/assets/colab-badge.svg\" alt=\"Open In Colab\"/></a>"
      ]
    },
    {
      "cell_type": "markdown",
      "source": [
        "**control flow and conditional statements**"
      ],
      "metadata": {
        "id": "7kJSQInXRrRZ"
      }
    },
    {
      "cell_type": "markdown",
      "source": [
        "**Q1. Find the largest number from the given list, use for loop.**\n",
        "\n",
        "numbers = [12, 75, 150, 180, 145, 525, 50]"
      ],
      "metadata": {
        "id": "8HmVKlkIRtjk"
      }
    },
    {
      "cell_type": "code",
      "source": [
        "numbers = [12, 75, 150, 180, 145, 525, 50]\n",
        "\n",
        "largest_number = numbers[0]\n",
        "for number in numbers:\n",
        "     if number > largest_number:\n",
        "        largest_number = number\n",
        "  \n",
        "print(largest_number)\n",
        "\n"
      ],
      "metadata": {
        "colab": {
          "base_uri": "https://localhost:8080/"
        },
        "id": "Uaji87OPR1W9",
        "outputId": "4d799f0f-9a20-4471-e79a-b2a25a86200b"
      },
      "execution_count": 50,
      "outputs": [
        {
          "output_type": "stream",
          "name": "stdout",
          "text": [
            "525\n"
          ]
        }
      ]
    },
    {
      "cell_type": "markdown",
      "source": [
        "**Q2. Print all the even number between (1, 12).**"
      ],
      "metadata": {
        "id": "JlIkRqNbTrNY"
      }
    },
    {
      "cell_type": "code",
      "source": [
        "for i in range(1, 12):\n",
        "  if i % 2 == 0:\n",
        "    print(f\"Even number: {i}\")\n"
      ],
      "metadata": {
        "colab": {
          "base_uri": "https://localhost:8080/"
        },
        "id": "-OdQ8eQWTs24",
        "outputId": "b3376bc9-acbc-46b0-fd70-e041603bcec5"
      },
      "execution_count": 44,
      "outputs": [
        {
          "output_type": "stream",
          "name": "stdout",
          "text": [
            "Even number: 2\n",
            "Even number: 4\n",
            "Even number: 6\n",
            "Even number: 8\n",
            "Even number: 10\n"
          ]
        }
      ]
    },
    {
      "cell_type": "markdown",
      "source": [
        "**Q3. Calculate the sum of all numbers from 1 to a given number**\n",
        "\n",
        "Expected Output:\n",
        "\n",
        "Enter number 10\n",
        "\n",
        "Sum is:  55"
      ],
      "metadata": {
        "id": "UdKDM8stTzXe"
      }
    },
    {
      "cell_type": "code",
      "source": [
        "number = int(input(\"Enter number: \"))\n",
        "\n",
        "i = 0\n",
        "sum = 0\n",
        "\n",
        "while number > i:\n",
        "  i += 1\n",
        "  sum += i  \n",
        "print(f\"Sum: {sum}\")\n"
      ],
      "metadata": {
        "colab": {
          "base_uri": "https://localhost:8080/"
        },
        "id": "MaZuPoxHfX4P",
        "outputId": "a2b9ceae-6400-471c-a4bd-08e99776e504"
      },
      "execution_count": 40,
      "outputs": [
        {
          "output_type": "stream",
          "name": "stdout",
          "text": [
            "Enter number: 10\n",
            "Sum: 55\n"
          ]
        }
      ]
    },
    {
      "cell_type": "markdown",
      "source": [
        "**Q4. Write a program to display only those numbers from a list that satisfy the following conditions**\n",
        "\n",
        "The number must be divisible by five\n",
        "\n",
        "If the number is greater than 150, then skip it and move to the next number\n",
        "\n",
        "If the number is greater than 500, then stop the loop\n",
        "\n",
        "# Given:\n",
        "\n",
        "numbers = [12, 75, 150, 180, 145, 525, 50]"
      ],
      "metadata": {
        "id": "Y8brg6vOUFRV"
      }
    },
    {
      "cell_type": "code",
      "source": [
        "numbers = [12, 75, 150, 180, 145, 525, 50]\n",
        "\n",
        "for number in numbers:\n",
        "  if number > 500:\n",
        "         break\n",
        "  elif number > 150:\n",
        "       continue\n",
        "  elif number % 5 == 0:\n",
        "    print(number)\n"
      ],
      "metadata": {
        "colab": {
          "base_uri": "https://localhost:8080/"
        },
        "id": "mqH37LhVUIOO",
        "outputId": "8393b9a3-8601-417d-b77b-0998f57f422c"
      },
      "execution_count": 54,
      "outputs": [
        {
          "output_type": "stream",
          "name": "stdout",
          "text": [
            "75\n",
            "150\n",
            "145\n"
          ]
        }
      ]
    },
    {
      "cell_type": "markdown",
      "source": [
        "**Q5. Print the given list in reverse order.**\n",
        "\n",
        "list1 = [10, 20, 30, 40, 50]\n"
      ],
      "metadata": {
        "id": "j5Fe2lL5UJ3E"
      }
    },
    {
      "cell_type": "code",
      "source": [
        "list1 = [10, 20, 30, 40, 50]\n",
        "\n",
        "list2 = reversed(list1)\n",
        "\n",
        "for number in list2:\n",
        "     print(number)"
      ],
      "metadata": {
        "colab": {
          "base_uri": "https://localhost:8080/"
        },
        "id": "FVQHys7svxQo",
        "outputId": "d73e72ef-2aaa-4a81-affe-e78cb582f83e"
      },
      "execution_count": 60,
      "outputs": [
        {
          "output_type": "stream",
          "name": "stdout",
          "text": [
            "50\n",
            "40\n",
            "30\n",
            "20\n",
            "10\n"
          ]
        }
      ]
    }
  ]
}