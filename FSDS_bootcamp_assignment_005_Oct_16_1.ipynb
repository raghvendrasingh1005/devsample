{
  "nbformat": 4,
  "nbformat_minor": 0,
  "metadata": {
    "colab": {
      "provenance": [],
      "collapsed_sections": [],
      "authorship_tag": "ABX9TyPAA4G4/7b1myYGxC01eAVW",
      "include_colab_link": true
    },
    "kernelspec": {
      "name": "python3",
      "display_name": "Python 3"
    },
    "language_info": {
      "name": "python"
    }
  },
  "cells": [
    {
      "cell_type": "markdown",
      "metadata": {
        "id": "view-in-github",
        "colab_type": "text"
      },
      "source": [
        "<a href=\"https://colab.research.google.com/github/raghvendrasingh1005/devsample/blob/master/FSDS_bootcamp_assignment_005_Oct_16_1.ipynb\" target=\"_parent\"><img src=\"https://colab.research.google.com/assets/colab-badge.svg\" alt=\"Open In Colab\"/></a>"
      ]
    },
    {
      "cell_type": "markdown",
      "source": [
        "1. On amazon website we have the following available items -    \n",
        "\n",
        "amazon_website = [(\"watch\", 5000), (\"phone\", 10000), (\"laptop\", 50000), (\"shirt\", 1000)]                         \n",
        "                                    \n",
        "Take the user input N no. of times and find out the total cost to be paid?\n",
        "\n",
        "OR\n",
        "\n",
        "You can ask the user quntity or the count of item?\n",
        "\n",
        "if the item is not present in the amazon website then print that item as out of stock and do add it total"
      ],
      "metadata": {
        "id": "M9rnFI1ZucOI"
      }
    },
    {
      "cell_type": "code",
      "execution_count": 5,
      "metadata": {
        "colab": {
          "base_uri": "https://localhost:8080/"
        },
        "id": "AZIPu5XguRnv",
        "outputId": "84298402-bcc2-4d7e-cad4-195144fbd016"
      },
      "outputs": [
        {
          "output_type": "stream",
          "name": "stdout",
          "text": [
            "\n",
            "Choose an item: watch, phone, laptop, shirt\n",
            "shirt\n",
            "Would you like to choose again? y/n: y\n",
            "\n",
            "Choose an item: watch, phone, laptop, shirt\n",
            "phone\n",
            "Would you like to choose again? y/n: y\n",
            "\n",
            "Choose an item: watch, phone, laptop, shirt\n",
            "watch\n",
            "Would you like to choose again? y/n: n\n",
            "Total Cost: 16000\n"
          ]
        }
      ],
      "source": [
        "amazon_website = [(\"watch\", 5000), (\"phone\", 10000), (\"laptop\", 50000), (\"shirt\", 1000)] \n",
        "\n",
        "#Convert in dictionary\n",
        "shoppingDict = dict(amazon_website)\n",
        "\n",
        "price = 0\n",
        "\n",
        "while True:\n",
        "    # user to enter an item\n",
        "    choice=input('\\nChoose an item: watch, phone, laptop, shirt\\n')\n",
        "    #check if that item is found in the dictionary\n",
        "    #if so add the key's value(price) to price\n",
        "    if choice in shoppingDict.keys():\n",
        "       price += shoppingDict.get(choice)\n",
        "    #if the user does not enter a valid item, we will print error\n",
        "    else:\n",
        "        print('Item is not valid')\n",
        "    #ask them if they want to choose any item again\n",
        "    if input('Would you like to choose again? y/n: ') == 'n':\n",
        "        print(f'Total Cost: {price}')\n",
        "        break\n"
      ]
    },
    {
      "cell_type": "markdown",
      "source": [
        "**2. What will be the output of the following code snippet?**\n",
        "\n",
        "arr = [1, 2, 3, 4, 5, 6]                                                       \n",
        "for i in range(1, 6):                                                          \n",
        "    arr[i - 1] = arr[i]                                              \n",
        "for i in range(0, 6):                                                     \n",
        "    print(arr[i], end = \" \")"
      ],
      "metadata": {
        "id": "EfXc8Qqtui7V"
      }
    },
    {
      "cell_type": "code",
      "source": [
        "arr = [1, 2, 3, 4, 5, 6]\n",
        "\n",
        "for i in range(1, 6):\n",
        "   arr[i - 1] = arr[i]\n",
        "for i in range(0, 6):\n",
        "   print(arr[i], end = \" \")"
      ],
      "metadata": {
        "colab": {
          "base_uri": "https://localhost:8080/"
        },
        "id": "S-h2mSFCuylM",
        "outputId": "da91c847-4b62-4057-cbfc-014addb1ffcd"
      },
      "execution_count": null,
      "outputs": [
        {
          "output_type": "stream",
          "name": "stdout",
          "text": [
            "2 3 4 5 6 6 "
          ]
        }
      ]
    },
    {
      "cell_type": "markdown",
      "source": [
        "**3. Write a Python program to find the repeated items of a tuple.**"
      ],
      "metadata": {
        "id": "0JM7dPWjuzY4"
      }
    },
    {
      "cell_type": "code",
      "source": [
        "tuple1 = (1, 2, 3, 4, 5, 6, 5, 4)\n",
        "\n",
        "print(\"Repeated items\")\n",
        "for i in range(0, len(tuple1)):\n",
        "  for j in range(i+1, len(tuple1)):    \n",
        "    if tuple1[i] == tuple1[j]:\n",
        "      print(tuple1[i], end=\" \")\n",
        "\n",
        "\n",
        "\n"
      ],
      "metadata": {
        "colab": {
          "base_uri": "https://localhost:8080/"
        },
        "id": "9-RfzdIQu3KX",
        "outputId": "46859123-694c-4850-8423-eec8cab5782d"
      },
      "execution_count": null,
      "outputs": [
        {
          "output_type": "stream",
          "name": "stdout",
          "text": [
            "Repeated items\n",
            "4 5 "
          ]
        }
      ]
    },
    {
      "cell_type": "markdown",
      "source": [
        "**4. Replace last value of tuples in a list with 500. Try using list comprehension**\n",
        "\n",
        "Example -: \n",
        "\n",
        "Input -:\n",
        "\n",
        "[(10, 20, 40), (40, 50, 60), (70, 80, 90)]\n",
        "\n",
        "Output -:\n",
        "[(10, 20, 500), (40, 50, 500), (70, 80, 500)]"
      ],
      "metadata": {
        "id": "ES7B6cR6u4D5"
      }
    },
    {
      "cell_type": "code",
      "source": [
        "list1 = [(10, 20, 40), (40, 50, 60), (70, 80, 90)]\n",
        "\n",
        "new_list1 = [x[:-1] + (500,) for x in list1 ]\n",
        "print(new_list1)"
      ],
      "metadata": {
        "colab": {
          "base_uri": "https://localhost:8080/"
        },
        "id": "4cEiIkmXu8Al",
        "outputId": "ac871b2a-4211-474a-a9f9-28305b6027c8"
      },
      "execution_count": null,
      "outputs": [
        {
          "output_type": "stream",
          "name": "stdout",
          "text": [
            "[(10, 20, 500), (40, 50, 500), (70, 80, 500)]\n"
          ]
        }
      ]
    }
  ]
}